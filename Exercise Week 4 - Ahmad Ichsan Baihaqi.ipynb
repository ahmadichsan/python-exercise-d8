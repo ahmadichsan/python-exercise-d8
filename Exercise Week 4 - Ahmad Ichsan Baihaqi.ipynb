{
 "cells": [
  {
   "cell_type": "markdown",
   "id": "62c476ca",
   "metadata": {},
   "source": [
    "Exercise Week 4\n",
    "\n",
    "Author: Ahmad Ichsan Baihaqi\n",
    "Email: ahmadichsanbaihaqi@gmail.com"
   ]
  },
  {
   "cell_type": "markdown",
   "id": "a451c187",
   "metadata": {},
   "source": [
    "**Question 1 - Shifting Members of an Array**\n",
    "\n",
    "In this question, we want to shift our array to the right. How many times? Depends on the input. \n",
    "\n",
    "**Example 1**:\n",
    "\n",
    "array = [1,2,3,4,5]\n",
    "steps = 3\n",
    "\n",
    "We need to shift the array 3 steps to the right. \n",
    "- Original array = [1,2,3,4,5]\n",
    "- Step 1 = [5,1,2,3,4]\n",
    "- Step 2 = [4,5,1,2,3]\n",
    "- Step 3 = [3,4,5,1,2]\n",
    "\n",
    "Answer = [3,4,5,1,2]\n",
    "\n",
    "**Example 2**:\n",
    "\n",
    "array = [1,2,3]\n",
    "steps = 5\n",
    "\n",
    "We need to shift the array 5 steps to the right.\n",
    "- Original array = [1,2,3]\n",
    "- Step 1 = [3,1,2]\n",
    "- Step 2 = [2,3,1]\n",
    "- Step 3 = [1,2,3]\n",
    "- Step 4 = [3,1,2]\n",
    "- Step 5 = [2,3,1]\n",
    "\n",
    "Answer = [2,3,1]"
   ]
  },
  {
   "cell_type": "code",
   "execution_count": 62,
   "id": "a1ca2994",
   "metadata": {},
   "outputs": [
    {
     "name": "stdout",
     "output_type": "stream",
     "text": [
      "[2, 3, 4, 5, 1]\n",
      "['budi', 'charlie', 'doni', 'andi']\n",
      "['bing', 123, 'data', 'science', 'di', 'bim']\n"
     ]
    }
   ],
   "source": [
    "### Answer Question 1\n",
    "\n",
    "def questionOne():\n",
    "    def shift(arrays, steps):\n",
    "        arrayLength = len(arrays)\n",
    "\n",
    "        mod = steps % arrayLength\n",
    "        \n",
    "        isBackToOriginal = (steps >= arrayLength) & (mod == 0)\n",
    "        \n",
    "        if (isBackToOriginal):\n",
    "            return arrays\n",
    "        \n",
    "        ## create array with default value None to avoid assignment out of range\n",
    "        newArray = [None] * arrayLength\n",
    "        \n",
    "        for index, item in enumerate(arrays):\n",
    "            newIndex = index + steps\n",
    "            \n",
    "            if (newIndex < arrayLength):\n",
    "                newArray[newIndex] = item\n",
    "                continue\n",
    "            \n",
    "            mod = newIndex % arrayLength\n",
    "            newIndex = mod\n",
    "\n",
    "            newArray[newIndex] = item\n",
    "            \n",
    "        return newArray\n",
    "\n",
    "    # Expected Output: [2, 3, 4, 5, 1]\n",
    "    result1 = shift([1,2,3,4,5], 4)\n",
    "    print(result1)\n",
    "\n",
    "    # Expected Output: ['budi', 'charlie', 'doni', 'andi']\n",
    "    result2 = shift(['andi', 'budi', 'charlie', 'doni'], 7)\n",
    "    print(result2)\n",
    "\n",
    "    # Expected Output: ['bing', 123, 'data', 'science', 'di', 'bim']\n",
    "    result3 = shift(['di', 'bim', 'bing', 123, 'data', 'science'], 10)\n",
    "    print(result3)\n",
    "\n",
    "questionOne()"
   ]
  },
  {
   "cell_type": "markdown",
   "id": "82620c25",
   "metadata": {},
   "source": [
    "**Question 2 - Pascal Triangle**\n",
    "\n",
    "We want to generate the n-th row of \"Pascal's Triangle\".\n",
    "Your function name should be ```pascal```.\n",
    "For those who does not know pascal triangle, watch this video: https://www.youtube.com/watch?v=1D3KsvfB8b0 and read https://www.mathsisfun.com/pascals-triangle.html \n",
    "\n",
    "**Example 1**:\n",
    "\n",
    "Input = 4\n",
    "\n",
    "Answer = [1,4,6,4,1]\n",
    "\n",
    "**Example 2**:\n",
    "\n",
    "input = 3\n",
    "\n",
    "Answer = [1,3,3,1]"
   ]
  },
  {
   "cell_type": "code",
   "execution_count": 78,
   "id": "c5210915",
   "metadata": {},
   "outputs": [
    {
     "name": "stdout",
     "output_type": "stream",
     "text": [
      "[1]\n",
      "[1, 1]\n",
      "[1, 2, 1]\n",
      "[1, 3, 3, 1]\n"
     ]
    }
   ],
   "source": [
    "### Answer Question 2\n",
    "\n",
    "from math import comb\n",
    "\n",
    "def questionTwo():\n",
    "    def pascal(row):\n",
    "        loop = row + 1\n",
    "        \n",
    "        myList = [i for i in range(0, loop)]\n",
    "        \n",
    "        final = []\n",
    "        \n",
    "        for item in myList:\n",
    "            result = comb(row, item)\n",
    "            final.append(result)\n",
    "                \n",
    "        return final\n",
    "    \n",
    "    # Expected Output: [1]\n",
    "    result1 = pascal(0)\n",
    "    print(result1)\n",
    "    \n",
    "    # Expected Output: [1, 1]\n",
    "    result2 = pascal(1)\n",
    "    print(result2)\n",
    "    \n",
    "    # Expected Output: [1, 2, 1]\n",
    "    result3 = pascal(2)\n",
    "    print(result3)\n",
    "    \n",
    "    # Expected Output: [1, 3, 3, 1]\n",
    "    result4 = pascal(3)\n",
    "    print(result4)\n",
    "\n",
    "questionTwo()"
   ]
  },
  {
   "cell_type": "markdown",
   "id": "2dcd8020",
   "metadata": {},
   "source": [
    "**Question 3 - Maximum Distance Between 3 Points**\n",
    "\n",
    "Given three coordinates, determine which two points are the furthest apart, and output the length of their distance. Your function should be called ```max_distance```. First coordinate is called 'A', second coordinate is called 'B', third coordinate is called 'C'. \n",
    "\n",
    "**Example**:\n",
    "A = [1,2]\n",
    "B = [10,-10]\n",
    "C = [-3, 5]\n",
    "\n",
    "- The distance between AB = 15\n",
    "- The distance between BC = 19.8\n",
    "- The distance between AC = 8.06\n",
    "\n",
    "Answer = \"The point A, B are furthest apart with distance 19.8\""
   ]
  },
  {
   "cell_type": "code",
   "execution_count": 81,
   "id": "ae221ef8",
   "metadata": {},
   "outputs": [
    {
     "name": "stdout",
     "output_type": "stream",
     "text": [
      "The point BC are furthest apart with distance 19.849433241279208\n"
     ]
    }
   ],
   "source": [
    "### Answer Question 3\n",
    "\n",
    "def questionThree():\n",
    "    \n",
    "    def maxDistance(a, b, c):\n",
    "        def distance(first, second):            \n",
    "            x1 = first[0]\n",
    "            y1 = first[1]\n",
    "            x2 = second[0]\n",
    "            y2 = second[1]\n",
    "\n",
    "            firstPoint = x1 - x2\n",
    "            firstPointSquare = firstPoint ** 2\n",
    "\n",
    "            secondPoint = y1 - y2\n",
    "            secondPointSquare = secondPoint ** 2\n",
    "\n",
    "            result = (firstPointSquare + secondPointSquare) ** 0.5\n",
    "            \n",
    "            return result\n",
    "        \n",
    "        abDistance = distance(a, b)\n",
    "        bcDistance = distance(b, c)\n",
    "        acDistance = distance(a, c)\n",
    "        \n",
    "        dictResult = {\n",
    "            \"AB\": abDistance,\n",
    "            \"BC\": bcDistance,\n",
    "            \"AC\": acDistance\n",
    "        }\n",
    "        \n",
    "        furthestDistance = max(dictResult, key = dictResult.get)\n",
    "        \n",
    "        print(\"The point \" + furthestDistance + \" are furthest apart with distance \" + str(dictResult[furthestDistance]))\n",
    "    \n",
    "    maxDistance([1, 2], [10, -10], [-3, 5])\n",
    "        \n",
    "    \n",
    "questionThree()\n",
    "\n",
    "\n"
   ]
  }
 ],
 "metadata": {
  "kernelspec": {
   "display_name": "Python 3",
   "language": "python",
   "name": "python3"
  },
  "language_info": {
   "codemirror_mode": {
    "name": "ipython",
    "version": 3
   },
   "file_extension": ".py",
   "mimetype": "text/x-python",
   "name": "python",
   "nbconvert_exporter": "python",
   "pygments_lexer": "ipython3",
   "version": "3.8.8"
  }
 },
 "nbformat": 4,
 "nbformat_minor": 5
}
